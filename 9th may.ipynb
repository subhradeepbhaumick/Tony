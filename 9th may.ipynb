{
 "cells": [
  {
   "cell_type": "markdown",
   "id": "67521333-a2f9-49cb-b29f-91298ca3ed11",
   "metadata": {},
   "source": [
    "Q1. Create one variable containing following type of data:"
   ]
  },
  {
   "cell_type": "code",
   "execution_count": 1,
   "id": "17872b72-cb31-47f7-8c98-3416bd17787e",
   "metadata": {},
   "outputs": [],
   "source": [
    "s=\"sudh\"\n",
    "l={1,2,3,4,1,2,\"sudh\"}\n",
    "f=1.234\n",
    "t=[1,2,34,\"sudh\",3+5j]"
   ]
  },
  {
   "cell_type": "markdown",
   "id": "de021256-c694-407a-b14e-d690c8a61172",
   "metadata": {},
   "source": [
    "Q2. Given are some following variables containing data:"
   ]
  },
  {
   "cell_type": "code",
   "execution_count": 2,
   "id": "93b19565-baf5-4a05-9d06-feffe1eb8610",
   "metadata": {},
   "outputs": [],
   "source": [
    "var1=''"
   ]
  },
  {
   "cell_type": "code",
   "execution_count": 3,
   "id": "b179ce3d-5e70-4bce-bb87-349a28e440ee",
   "metadata": {},
   "outputs": [
    {
     "data": {
      "text/plain": [
       "str"
      ]
     },
     "execution_count": 3,
     "metadata": {},
     "output_type": "execute_result"
    }
   ],
   "source": [
    "type(var1)"
   ]
  },
  {
   "cell_type": "code",
   "execution_count": 4,
   "id": "b277a5dd-689b-4654-8b46-e5ab6a21db0d",
   "metadata": {},
   "outputs": [],
   "source": [
    "var2='[DS,ML,Python]'"
   ]
  },
  {
   "cell_type": "code",
   "execution_count": 5,
   "id": "d1c27f06-6868-43d8-a2f4-aea25fbb9ca1",
   "metadata": {},
   "outputs": [
    {
     "data": {
      "text/plain": [
       "str"
      ]
     },
     "execution_count": 5,
     "metadata": {},
     "output_type": "execute_result"
    }
   ],
   "source": [
    "type(var2)"
   ]
  },
  {
   "cell_type": "code",
   "execution_count": 6,
   "id": "beb06caa-fc10-4673-b709-0ebc0ce50ab8",
   "metadata": {},
   "outputs": [],
   "source": [
    "var3=['DS','ML','Python']"
   ]
  },
  {
   "cell_type": "code",
   "execution_count": 8,
   "id": "9c6a9b4e-cdae-498f-a0b1-74ead1e643f9",
   "metadata": {},
   "outputs": [
    {
     "data": {
      "text/plain": [
       "list"
      ]
     },
     "execution_count": 8,
     "metadata": {},
     "output_type": "execute_result"
    }
   ],
   "source": [
    "type(var3)"
   ]
  },
  {
   "cell_type": "code",
   "execution_count": 9,
   "id": "cb44781c-342f-456c-a7e8-9c6da84503a6",
   "metadata": {},
   "outputs": [],
   "source": [
    "var4=1."
   ]
  },
  {
   "cell_type": "code",
   "execution_count": 10,
   "id": "267cd587-c8fb-475b-9e82-4997169b2af5",
   "metadata": {},
   "outputs": [
    {
     "data": {
      "text/plain": [
       "float"
      ]
     },
     "execution_count": 10,
     "metadata": {},
     "output_type": "execute_result"
    }
   ],
   "source": [
    "type(var4)"
   ]
  },
  {
   "cell_type": "markdown",
   "id": "d40503f6-1a3a-4047-9c66-236e9124c109",
   "metadata": {},
   "source": [
    "Q3. Explain the use of the following operators using an example:"
   ]
  },
  {
   "cell_type": "code",
   "execution_count": 11,
   "id": "338a51b9-be9b-4e53-ac11-efc6d6779b38",
   "metadata": {},
   "outputs": [
    {
     "data": {
      "text/plain": [
       "5.0"
      ]
     },
     "execution_count": 11,
     "metadata": {},
     "output_type": "execute_result"
    }
   ],
   "source": [
    "#all of these are arithmetic operators.\n",
    "#division operator / : \n",
    "15/3"
   ]
  },
  {
   "cell_type": "code",
   "execution_count": 12,
   "id": "1a455988-f4f9-47a2-a6ed-fa931f1717e2",
   "metadata": {},
   "outputs": [
    {
     "data": {
      "text/plain": [
       "3"
      ]
     },
     "execution_count": 12,
     "metadata": {},
     "output_type": "execute_result"
    }
   ],
   "source": [
    "#modulus operator % :\n",
    "15%4"
   ]
  },
  {
   "cell_type": "code",
   "execution_count": 13,
   "id": "80aa746b-9c2c-48d5-8f2c-81fabad33933",
   "metadata": {},
   "outputs": [
    {
     "data": {
      "text/plain": [
       "2"
      ]
     },
     "execution_count": 13,
     "metadata": {},
     "output_type": "execute_result"
    }
   ],
   "source": [
    "#floor division // :\n",
    "15//6"
   ]
  },
  {
   "cell_type": "code",
   "execution_count": 14,
   "id": "bcad5224-b331-49a4-a40e-1538260f419a",
   "metadata": {},
   "outputs": [
    {
     "data": {
      "text/plain": [
       "8"
      ]
     },
     "execution_count": 14,
     "metadata": {},
     "output_type": "execute_result"
    }
   ],
   "source": [
    "#exponensial division ** :\n",
    "2**3"
   ]
  },
  {
   "cell_type": "markdown",
   "id": "210fc63e-cd0c-45cc-9cee-cc5d806fc1e5",
   "metadata": {},
   "source": [
    "Q4. Create a list of length 10 of your choice containing multiple types of data. Using for loop print the\n",
    "element and its data type."
   ]
  },
  {
   "cell_type": "code",
   "execution_count": 15,
   "id": "dc42cc04-b80f-4206-81a3-d050d78278ed",
   "metadata": {},
   "outputs": [
    {
     "name": "stdout",
     "output_type": "stream",
     "text": [
      "2\n",
      "<class 'int'>\n",
      "3\n",
      "<class 'int'>\n",
      "4\n",
      "<class 'int'>\n",
      "5\n",
      "<class 'int'>\n",
      "6\n",
      "<class 'int'>\n",
      "sudh\n",
      "<class 'str'>\n",
      "23.45\n",
      "<class 'float'>\n",
      "True\n",
      "<class 'bool'>\n"
     ]
    }
   ],
   "source": [
    "l=[2,3,4,5,6,\"sudh\",23.45,True]\n",
    "for i in l:\n",
    "    print(i)\n",
    "    print(type(i))"
   ]
  },
  {
   "cell_type": "markdown",
   "id": "049edcd7-bfd3-4467-910d-dfab0d931f19",
   "metadata": {},
   "source": [
    "Q5. Using a while loop, verify if the number A is purely divisible by number B and if so then how many\n",
    "times it can be divisible."
   ]
  },
  {
   "cell_type": "code",
   "execution_count": 16,
   "id": "eb117d61-2d78-42e1-9c9a-719475ec0f76",
   "metadata": {},
   "outputs": [
    {
     "name": "stdin",
     "output_type": "stream",
     "text": [
      " 12\n",
      " 2\n"
     ]
    },
    {
     "name": "stdout",
     "output_type": "stream",
     "text": [
      "A is completely divisible by B\n",
      "no of times A is divisible by B is  2\n"
     ]
    }
   ],
   "source": [
    "A=int(input())\n",
    "B=int(input())\n",
    "count=0\n",
    "while A>0:\n",
    "    if A%B==0:\n",
    "        count=count+1\n",
    "    A=A/B\n",
    "print(\"A is completely divisible by B\")\n",
    "print(\"no of times A is divisible by B is \",count) \n",
    "        "
   ]
  },
  {
   "cell_type": "markdown",
   "id": "3ef4cb0c-ad44-4045-a5b4-71b1dbf37554",
   "metadata": {},
   "source": [
    "Q6. Create a list containing 25 int type data. Using for loop and if-else condition print if the element is\n",
    "divisible by 3 or not."
   ]
  },
  {
   "cell_type": "code",
   "execution_count": 32,
   "id": "2f50dd75-6bb9-4521-9267-feef2e91dbbd",
   "metadata": {},
   "outputs": [
    {
     "name": "stdout",
     "output_type": "stream",
     "text": [
      "3  divisible by 3\n",
      "9  divisible by 3\n",
      "42  divisible by 3\n",
      "56 not divisible by 3\n",
      "43 not divisible by 3\n",
      "90  divisible by 3\n",
      "31 not divisible by 3\n",
      "36  divisible by 3\n",
      "58 not divisible by 3\n",
      "105  divisible by 3\n",
      "26 not divisible by 3\n",
      "53 not divisible by 3\n",
      "72  divisible by 3\n",
      "63  divisible by 3\n",
      "75  divisible by 3\n",
      "437 not divisible by 3\n",
      "86 not divisible by 3\n",
      "27  divisible by 3\n",
      "29 not divisible by 3\n",
      "48  divisible by 3\n",
      "67 not divisible by 3\n",
      "83 not divisible by 3\n",
      "75  divisible by 3\n",
      "28 not divisible by 3\n",
      "26 not divisible by 3\n"
     ]
    }
   ],
   "source": [
    "l=[3,9,42,56,43,90,31,36,58,105,26,53,72,63,75,437,86,27,29,48,67,83,75,28,26]\n",
    "for i in l:\n",
    "    if i%3==0:\n",
    "        print(i, \" divisible by 3\")\n",
    "    else :\n",
    "        print(i,\"not divisible by 3\")"
   ]
  },
  {
   "cell_type": "markdown",
   "id": "f6eaab1e-504f-4f39-a905-b58d0930961b",
   "metadata": {},
   "source": [
    "Q7. What do you understand about mutable and immutable data types? Give examples for both showing\n",
    "this property."
   ]
  },
  {
   "cell_type": "code",
   "execution_count": 26,
   "id": "d4005f5e-4b82-40af-8daa-b3b3daf520ff",
   "metadata": {},
   "outputs": [],
   "source": [
    "l=[0,\"sudh\",1.234,True]"
   ]
  },
  {
   "cell_type": "code",
   "execution_count": 27,
   "id": "046336ff-7010-464d-8a01-6a7c3e36a91a",
   "metadata": {},
   "outputs": [],
   "source": [
    "l[3]=3.21"
   ]
  },
  {
   "cell_type": "code",
   "execution_count": 29,
   "id": "bde90bd3-138e-460b-8856-4d77243b85bf",
   "metadata": {},
   "outputs": [
    {
     "data": {
      "text/plain": [
       "[0, 'sudh', 1.234, 3.21]"
      ]
     },
     "execution_count": 29,
     "metadata": {},
     "output_type": "execute_result"
    }
   ],
   "source": [
    "l"
   ]
  },
  {
   "cell_type": "code",
   "execution_count": 30,
   "id": "bb9dfa5f-b22e-485b-b64f-23fb20872b3a",
   "metadata": {},
   "outputs": [],
   "source": [
    "s=\"sudh\""
   ]
  },
  {
   "cell_type": "code",
   "execution_count": 31,
   "id": "e08a0874-2af8-4681-8b4a-7db92a0ebc35",
   "metadata": {},
   "outputs": [
    {
     "ename": "NameError",
     "evalue": "name 'p' is not defined",
     "output_type": "error",
     "traceback": [
      "\u001b[0;31m---------------------------------------------------------------------------\u001b[0m",
      "\u001b[0;31mNameError\u001b[0m                                 Traceback (most recent call last)",
      "Cell \u001b[0;32mIn[31], line 1\u001b[0m\n\u001b[0;32m----> 1\u001b[0m s[\u001b[38;5;241m2\u001b[39m]\u001b[38;5;241m=\u001b[39m\u001b[43mp\u001b[49m\n",
      "\u001b[0;31mNameError\u001b[0m: name 'p' is not defined"
     ]
    }
   ],
   "source": [
    "s[2]=p"
   ]
  },
  {
   "cell_type": "markdown",
   "id": "c9db4338-f18d-4408-8522-0f9cea045aab",
   "metadata": {},
   "source": [
    "If we can reassign new object in particular index ,then that data type is called mutable otherwise that is called immutable data type.\n",
    "Here list is mutable and string is immutable data type."
   ]
  },
  {
   "cell_type": "code",
   "execution_count": null,
   "id": "a8c08bb9-d506-434d-a860-3197c467229f",
   "metadata": {},
   "outputs": [],
   "source": []
  }
 ],
 "metadata": {
  "kernelspec": {
   "display_name": "Python 3 (ipykernel)",
   "language": "python",
   "name": "python3"
  },
  "language_info": {
   "codemirror_mode": {
    "name": "ipython",
    "version": 3
   },
   "file_extension": ".py",
   "mimetype": "text/x-python",
   "name": "python",
   "nbconvert_exporter": "python",
   "pygments_lexer": "ipython3",
   "version": "3.10.8"
  }
 },
 "nbformat": 4,
 "nbformat_minor": 5
}
