{
 "cells": [
  {
   "cell_type": "code",
   "execution_count": 1,
   "id": "bd4409ea-63fe-4779-8f1a-fc34217e4bf4",
   "metadata": {},
   "outputs": [],
   "source": [
    "a=1"
   ]
  },
  {
   "cell_type": "code",
   "execution_count": 2,
   "id": "61177d33-add3-4316-a742-acae31a52ab1",
   "metadata": {},
   "outputs": [
    {
     "data": {
      "text/plain": [
       "1"
      ]
     },
     "execution_count": 2,
     "metadata": {},
     "output_type": "execute_result"
    }
   ],
   "source": [
    "a"
   ]
  },
  {
   "cell_type": "code",
   "execution_count": 3,
   "id": "ab918bee-d5a2-4b43-955d-2613bcee1ca6",
   "metadata": {},
   "outputs": [
    {
     "data": {
      "text/plain": [
       "int"
      ]
     },
     "execution_count": 3,
     "metadata": {},
     "output_type": "execute_result"
    }
   ],
   "source": [
    "type(a)"
   ]
  },
  {
   "cell_type": "code",
   "execution_count": 3,
   "id": "2704e367-2aaf-40a8-9b70-1d9ff3423ba7",
   "metadata": {},
   "outputs": [],
   "source": [
    "b='sudh'"
   ]
  },
  {
   "cell_type": "code",
   "execution_count": 4,
   "id": "d7b98ba6-30e1-4269-8372-426e703c8c7f",
   "metadata": {},
   "outputs": [
    {
     "data": {
      "text/plain": [
       "str"
      ]
     },
     "execution_count": 4,
     "metadata": {},
     "output_type": "execute_result"
    }
   ],
   "source": [
    "type(b)"
   ]
  },
  {
   "cell_type": "code",
   "execution_count": 6,
   "id": "8385ad7f-1fd1-4845-88b1-a52f52962e98",
   "metadata": {},
   "outputs": [],
   "source": [
    "c=1.234"
   ]
  },
  {
   "cell_type": "code",
   "execution_count": 7,
   "id": "df76288e-3189-4431-b073-f0b7aed762a8",
   "metadata": {},
   "outputs": [
    {
     "data": {
      "text/plain": [
       "float"
      ]
     },
     "execution_count": 7,
     "metadata": {},
     "output_type": "execute_result"
    }
   ],
   "source": [
    "type(c)"
   ]
  },
  {
   "cell_type": "code",
   "execution_count": 9,
   "id": "572e9e6c-1f26-41dd-99fd-2db5e02e7096",
   "metadata": {},
   "outputs": [],
   "source": [
    "d=True #boolean variable"
   ]
  },
  {
   "cell_type": "code",
   "execution_count": 10,
   "id": "3f27b7cb-60c8-46f8-a745-12aa231fccac",
   "metadata": {},
   "outputs": [
    {
     "data": {
      "text/plain": [
       "bool"
      ]
     },
     "execution_count": 10,
     "metadata": {},
     "output_type": "execute_result"
    }
   ],
   "source": [
    "type(d)"
   ]
  },
  {
   "cell_type": "code",
   "execution_count": 11,
   "id": "61521480-8ca7-4355-81fe-cb06f4da8a42",
   "metadata": {},
   "outputs": [],
   "source": [
    "e=False"
   ]
  },
  {
   "cell_type": "code",
   "execution_count": 12,
   "id": "d6263201-fa42-498f-94b2-7dc639707a23",
   "metadata": {},
   "outputs": [
    {
     "data": {
      "text/plain": [
       "bool"
      ]
     },
     "execution_count": 12,
     "metadata": {},
     "output_type": "execute_result"
    }
   ],
   "source": [
    "type(e)"
   ]
  },
  {
   "cell_type": "code",
   "execution_count": 13,
   "id": "054ed4f4-5d6b-4621-9518-3323f27ff0b1",
   "metadata": {},
   "outputs": [
    {
     "data": {
      "text/plain": [
       "1"
      ]
     },
     "execution_count": 13,
     "metadata": {},
     "output_type": "execute_result"
    }
   ],
   "source": [
    "True-False #true=1 false=0(numerically)"
   ]
  },
  {
   "cell_type": "code",
   "execution_count": 14,
   "id": "70fefdfd-b9ef-42cf-bb8c-bb6d33613920",
   "metadata": {},
   "outputs": [
    {
     "data": {
      "text/plain": [
       "0"
      ]
     },
     "execution_count": 14,
     "metadata": {},
     "output_type": "execute_result"
    }
   ],
   "source": [
    "True*False #1*0"
   ]
  },
  {
   "cell_type": "code",
   "execution_count": 15,
   "id": "f42f06eb-d96c-4f5e-9d8a-d0596efa0c63",
   "metadata": {},
   "outputs": [
    {
     "data": {
      "text/plain": [
       "0.0"
      ]
     },
     "execution_count": 15,
     "metadata": {},
     "output_type": "execute_result"
    }
   ],
   "source": [
    "False/True #0/1"
   ]
  },
  {
   "cell_type": "code",
   "execution_count": 16,
   "id": "4c5cb028-7ee7-49e8-8586-5fedf964634f",
   "metadata": {},
   "outputs": [
    {
     "ename": "ZeroDivisionError",
     "evalue": "division by zero",
     "output_type": "error",
     "traceback": [
      "\u001b[0;31m---------------------------------------------------------------------------\u001b[0m",
      "\u001b[0;31mZeroDivisionError\u001b[0m                         Traceback (most recent call last)",
      "Cell \u001b[0;32mIn[16], line 1\u001b[0m\n\u001b[0;32m----> 1\u001b[0m \u001b[38;5;28;43;01mTrue\u001b[39;49;00m\u001b[38;5;241;43m/\u001b[39;49m\u001b[38;5;28;43;01mFalse\u001b[39;49;00m\n",
      "\u001b[0;31mZeroDivisionError\u001b[0m: division by zero"
     ]
    }
   ],
   "source": [
    "True/False #1/0"
   ]
  },
  {
   "cell_type": "code",
   "execution_count": 17,
   "id": "0060ca62-301e-4d22-82f5-05a904f0d7b1",
   "metadata": {},
   "outputs": [],
   "source": [
    "f=5+4j #in python we denote complex variable 'i' as \"j\""
   ]
  },
  {
   "cell_type": "code",
   "execution_count": 18,
   "id": "88ad83da-15b4-4fab-9008-f47c8ef52836",
   "metadata": {},
   "outputs": [
    {
     "data": {
      "text/plain": [
       "complex"
      ]
     },
     "execution_count": 18,
     "metadata": {},
     "output_type": "execute_result"
    }
   ],
   "source": [
    "type(f)"
   ]
  },
  {
   "cell_type": "code",
   "execution_count": 20,
   "id": "65565e40-915a-4898-ab7e-f5f7d10c8323",
   "metadata": {},
   "outputs": [
    {
     "ename": "SyntaxError",
     "evalue": "invalid decimal literal (3781139834.py, line 1)",
     "output_type": "error",
     "traceback": [
      "\u001b[0;36m  Cell \u001b[0;32mIn[20], line 1\u001b[0;36m\u001b[0m\n\u001b[0;31m    e=6+5i\u001b[0m\n\u001b[0m        ^\u001b[0m\n\u001b[0;31mSyntaxError\u001b[0m\u001b[0;31m:\u001b[0m invalid decimal literal\n"
     ]
    }
   ],
   "source": [
    "e=6+5i #previous reason"
   ]
  },
  {
   "cell_type": "code",
   "execution_count": 21,
   "id": "c4b288fb-7f3f-4aaa-9ef9-71df128c6f30",
   "metadata": {},
   "outputs": [
    {
     "ename": "SyntaxError",
     "evalue": "cannot assign to literal here. Maybe you meant '==' instead of '='? (1989723018.py, line 1)",
     "output_type": "error",
     "traceback": [
      "\u001b[0;36m  Cell \u001b[0;32mIn[21], line 1\u001b[0;36m\u001b[0m\n\u001b[0;31m    1234=5\u001b[0m\n\u001b[0m    ^\u001b[0m\n\u001b[0;31mSyntaxError\u001b[0m\u001b[0;31m:\u001b[0m cannot assign to literal here. Maybe you meant '==' instead of '='?\n"
     ]
    }
   ],
   "source": [
    "1234=5 #variable name can't be numeric"
   ]
  },
  {
   "cell_type": "code",
   "execution_count": 23,
   "id": "2bf2afbe-aae7-4110-b106-a49bfe6fe6d2",
   "metadata": {},
   "outputs": [
    {
     "ename": "SyntaxError",
     "evalue": "invalid syntax (1672960163.py, line 1)",
     "output_type": "error",
     "traceback": [
      "\u001b[0;36m  Cell \u001b[0;32mIn[23], line 1\u001b[0;36m\u001b[0m\n\u001b[0;31m    ^34=6\u001b[0m\n\u001b[0m    ^\u001b[0m\n\u001b[0;31mSyntaxError\u001b[0m\u001b[0;31m:\u001b[0m invalid syntax\n"
     ]
    }
   ],
   "source": [
    "^34=6 #variable name can't be start with special charector except ' _ '"
   ]
  },
  {
   "cell_type": "code",
   "execution_count": 24,
   "id": "c85132e5-7545-4f48-b9b4-e3c08768d743",
   "metadata": {},
   "outputs": [],
   "source": [
    "_a=2"
   ]
  },
  {
   "cell_type": "code",
   "execution_count": 25,
   "id": "7f85c63d-491c-457e-ae51-e3197509d806",
   "metadata": {},
   "outputs": [
    {
     "data": {
      "text/plain": [
       "2"
      ]
     },
     "execution_count": 25,
     "metadata": {},
     "output_type": "execute_result"
    }
   ],
   "source": [
    "_a"
   ]
  },
  {
   "cell_type": "code",
   "execution_count": 26,
   "id": "db53c7bb-e532-4f48-9f09-42952e8cf3cb",
   "metadata": {},
   "outputs": [
    {
     "data": {
      "text/plain": [
       "int"
      ]
     },
     "execution_count": 26,
     "metadata": {},
     "output_type": "execute_result"
    }
   ],
   "source": [
    "type(_a)"
   ]
  },
  {
   "cell_type": "code",
   "execution_count": 27,
   "id": "8b6bdc7a-ad2c-41a9-b07d-89d492a5ad55",
   "metadata": {},
   "outputs": [
    {
     "data": {
      "text/plain": [
       "(5+4j)"
      ]
     },
     "execution_count": 27,
     "metadata": {},
     "output_type": "execute_result"
    }
   ],
   "source": [
    "f #previously we define f=5+4j"
   ]
  },
  {
   "cell_type": "code",
   "execution_count": 28,
   "id": "d82fcbb3-30c7-4343-b02c-0b8ef343bd48",
   "metadata": {},
   "outputs": [
    {
     "data": {
      "text/plain": [
       "5.0"
      ]
     },
     "execution_count": 28,
     "metadata": {},
     "output_type": "execute_result"
    }
   ],
   "source": [
    "f.real"
   ]
  },
  {
   "cell_type": "code",
   "execution_count": 29,
   "id": "c05ec7ef-ddb6-4522-a789-b21ad39ee6f4",
   "metadata": {},
   "outputs": [
    {
     "data": {
      "text/plain": [
       "4.0"
      ]
     },
     "execution_count": 29,
     "metadata": {},
     "output_type": "execute_result"
    }
   ],
   "source": [
    "f.imag"
   ]
  },
  {
   "cell_type": "code",
   "execution_count": 3,
   "id": "87c169f8-7af9-48a3-aa51-0a032b35feb1",
   "metadata": {},
   "outputs": [],
   "source": [
    "t=\"pwskills\""
   ]
  },
  {
   "cell_type": "code",
   "execution_count": 4,
   "id": "7a928b70-3cec-49db-8bbb-5b4f33baaf8a",
   "metadata": {},
   "outputs": [
    {
     "data": {
      "text/plain": [
       "'pws'"
      ]
     },
     "execution_count": 4,
     "metadata": {},
     "output_type": "execute_result"
    }
   ],
   "source": [
    "t[0:3]"
   ]
  },
  {
   "cell_type": "code",
   "execution_count": 5,
   "id": "db93657d-62a2-4e75-b3f1-cca38088cf6d",
   "metadata": {},
   "outputs": [
    {
     "data": {
      "text/plain": [
       "'pwskills'"
      ]
     },
     "execution_count": 5,
     "metadata": {},
     "output_type": "execute_result"
    }
   ],
   "source": [
    "t[0:8:1]"
   ]
  },
  {
   "cell_type": "code",
   "execution_count": 6,
   "id": "865be584-391a-42f2-a824-128ffaf75cf9",
   "metadata": {},
   "outputs": [
    {
     "data": {
      "text/plain": [
       "'psil'"
      ]
     },
     "execution_count": 6,
     "metadata": {},
     "output_type": "execute_result"
    }
   ],
   "source": [
    "t[0:8:2]"
   ]
  },
  {
   "cell_type": "code",
   "execution_count": 7,
   "id": "3a40633f-31be-4b0b-8856-52fa7f79ccca",
   "metadata": {},
   "outputs": [
    {
     "data": {
      "text/plain": [
       "'psil'"
      ]
     },
     "execution_count": 7,
     "metadata": {},
     "output_type": "execute_result"
    }
   ],
   "source": [
    "t[::2]"
   ]
  },
  {
   "cell_type": "code",
   "execution_count": 2,
   "id": "8d7b80b9-5072-436f-aa06-417aa96d1de7",
   "metadata": {},
   "outputs": [],
   "source": [
    "s1=\"this is my string class\""
   ]
  },
  {
   "cell_type": "code",
   "execution_count": 3,
   "id": "92fd47ee-ea72-487a-8ab9-844cb1582e90",
   "metadata": {},
   "outputs": [
    {
     "data": {
      "text/plain": [
       "23"
      ]
     },
     "execution_count": 3,
     "metadata": {},
     "output_type": "execute_result"
    }
   ],
   "source": [
    "len(s1) #inbuilt function len means length of the string"
   ]
  },
  {
   "cell_type": "code",
   "execution_count": 4,
   "id": "8671f29d-4529-4a19-a5dc-dc960b1f8456",
   "metadata": {},
   "outputs": [
    {
     "data": {
      "text/plain": [
       "3"
      ]
     },
     "execution_count": 4,
     "metadata": {},
     "output_type": "execute_result"
    }
   ],
   "source": [
    "s1.find(\"s\") #find means to find the index of the charector which is given"
   ]
  },
  {
   "cell_type": "code",
   "execution_count": 7,
   "id": "e66d1397-560b-4155-a299-9d979cf728cd",
   "metadata": {},
   "outputs": [
    {
     "data": {
      "text/plain": [
       "2"
      ]
     },
     "execution_count": 7,
     "metadata": {},
     "output_type": "execute_result"
    }
   ],
   "source": [
    "s1.find(\"is\") #s1.tab"
   ]
  },
  {
   "cell_type": "code",
   "execution_count": 8,
   "id": "4b913391-a3e7-4a40-9563-6c00bf5ba4ac",
   "metadata": {},
   "outputs": [
    {
     "data": {
      "text/plain": [
       "1"
      ]
     },
     "execution_count": 8,
     "metadata": {},
     "output_type": "execute_result"
    }
   ],
   "source": [
    "s1.count(\"st\")"
   ]
  },
  {
   "cell_type": "code",
   "execution_count": 9,
   "id": "d502606a-2f9e-475e-bbe8-62d2775b3f67",
   "metadata": {},
   "outputs": [
    {
     "data": {
      "text/plain": [
       "2"
      ]
     },
     "execution_count": 9,
     "metadata": {},
     "output_type": "execute_result"
    }
   ],
   "source": [
    "s1.count(\"is\")"
   ]
  },
  {
   "cell_type": "code",
   "execution_count": 3,
   "id": "f281023e-3473-4a20-a6f5-6147e9f33615",
   "metadata": {},
   "outputs": [
    {
     "data": {
      "text/plain": [
       "'THIS IS MY STRING CLASS'"
      ]
     },
     "execution_count": 3,
     "metadata": {},
     "output_type": "execute_result"
    }
   ],
   "source": [
    "s1.upper()"
   ]
  },
  {
   "cell_type": "code",
   "execution_count": 5,
   "id": "621b3d17-33b2-43de-a0f7-d71a9ea8696e",
   "metadata": {},
   "outputs": [],
   "source": [
    "s2=\"ToNy\""
   ]
  },
  {
   "cell_type": "code",
   "execution_count": 6,
   "id": "cef6a783-76e0-4cd2-944c-b03a36428f0c",
   "metadata": {},
   "outputs": [
    {
     "data": {
      "text/plain": [
       "'tony'"
      ]
     },
     "execution_count": 6,
     "metadata": {},
     "output_type": "execute_result"
    }
   ],
   "source": [
    "s2.lower()"
   ]
  },
  {
   "cell_type": "code",
   "execution_count": 7,
   "id": "2ae8766f-2b0d-42b4-823c-beb4e2dab57e",
   "metadata": {},
   "outputs": [
    {
     "data": {
      "text/plain": [
       "'This Is My String Class'"
      ]
     },
     "execution_count": 7,
     "metadata": {},
     "output_type": "execute_result"
    }
   ],
   "source": [
    "s1.title()"
   ]
  },
  {
   "cell_type": "code",
   "execution_count": 10,
   "id": "da478939-0da3-4380-8a04-63dca6a6d970",
   "metadata": {},
   "outputs": [
    {
     "data": {
      "text/plain": [
       "'This is my string class'"
      ]
     },
     "execution_count": 10,
     "metadata": {},
     "output_type": "execute_result"
    }
   ],
   "source": [
    "s1.capitalize()"
   ]
  },
  {
   "cell_type": "code",
   "execution_count": 11,
   "id": "d546d13b-c8d7-4d7e-9940-6d267e44f014",
   "metadata": {},
   "outputs": [
    {
     "data": {
      "text/plain": [
       "\"don't do copy and paste in my class\""
      ]
     },
     "execution_count": 11,
     "metadata": {},
     "output_type": "execute_result"
    }
   ],
   "source": [
    "\"don't do copy and paste in my class\""
   ]
  },
  {
   "cell_type": "code",
   "execution_count": null,
   "id": "0ce6b0b0-3133-4969-9c9c-0365db1d7a71",
   "metadata": {},
   "outputs": [],
   "source": []
  }
 ],
 "metadata": {
  "kernelspec": {
   "display_name": "Python 3 (ipykernel)",
   "language": "python",
   "name": "python3"
  },
  "language_info": {
   "codemirror_mode": {
    "name": "ipython",
    "version": 3
   },
   "file_extension": ".py",
   "mimetype": "text/x-python",
   "name": "python",
   "nbconvert_exporter": "python",
   "pygments_lexer": "ipython3",
   "version": "3.10.8"
  }
 },
 "nbformat": 4,
 "nbformat_minor": 5
}
